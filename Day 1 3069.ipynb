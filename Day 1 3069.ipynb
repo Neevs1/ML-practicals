{
 "cells": [
  {
   "cell_type": "code",
   "execution_count": 5,
   "id": "571eecb2",
   "metadata": {},
   "outputs": [],
   "source": [
    "#Day 1 Execution of loops"
   ]
  },
  {
   "cell_type": "code",
   "execution_count": 9,
   "id": "637daead",
   "metadata": {},
   "outputs": [
    {
     "name": "stdout",
     "output_type": "stream",
     "text": [
      "Enter a number \n",
      "2\n",
      "Number is even\n"
     ]
    }
   ],
   "source": [
    "#If conditional\n",
    "num = int(input(\"Enter a number \\n\"))\n",
    "if(num&1==0):\n",
    "    print(\"Number is even\")\n",
    "else: \n",
    "    print(\"Number is odd\")"
   ]
  },
  {
   "cell_type": "code",
   "execution_count": 14,
   "id": "7339824b",
   "metadata": {},
   "outputs": [
    {
     "name": "stdout",
     "output_type": "stream",
     "text": [
      "Enter any natural number 5\n",
      "5 x 1 = 5\n",
      "5 x 2 = 10\n",
      "5 x 3 = 15\n",
      "5 x 4 = 20\n",
      "5 x 5 = 25\n",
      "5 x 6 = 30\n",
      "5 x 7 = 35\n",
      "5 x 8 = 40\n",
      "5 x 9 = 45\n",
      "5 x 10 = 50\n"
     ]
    }
   ],
   "source": [
    "#While loop - Times table\n",
    "target = int(input(\"Enter any natural number \"))\n",
    "i=1;\n",
    "while(i<11):\n",
    "    print(target,\"x\",i,'=',target*i)\n",
    "    i+=1"
   ]
  },
  {
   "cell_type": "code",
   "execution_count": 22,
   "id": "775a7b35",
   "metadata": {},
   "outputs": [
    {
     "name": "stdout",
     "output_type": "stream",
     "text": [
      "Number of terms of fibonacci series 5\n",
      "0\n",
      "1\n",
      "1\n",
      "2\n",
      "3\n"
     ]
    }
   ],
   "source": [
    "#For loop\n",
    "terms = int(input(\"Number of terms of fibonacci series \"))\n",
    "i = 0\n",
    "print(i)\n",
    "j = 1\n",
    "print(j)\n",
    "\n",
    "for n in range (0,terms-2,1):\n",
    "    k=i+j\n",
    "    print(k)\n",
    "    i=j\n",
    "    j=k\n",
    "    \n",
    "    "
   ]
  },
  {
   "cell_type": "code",
   "execution_count": 26,
   "id": "7f87cfb5",
   "metadata": {},
   "outputs": [
    {
     "name": "stdout",
     "output_type": "stream",
     "text": [
      "Enter a number 4\n",
      "Number in tuple y\n"
     ]
    }
   ],
   "source": [
    "#elif statement\n",
    "x = (1,2,3)\n",
    "y = (4,5,6)\n",
    "num = int(input(\"Enter a number \"))\n",
    "if(num in x):\n",
    "    print(\"Number present in tuple x\")\n",
    "elif(num in y):\n",
    "    print(\"Number in tuple y\")\n",
    "else:\n",
    "    print(\"Number not present in either tuples\")"
   ]
  },
  {
   "cell_type": "code",
   "execution_count": 40,
   "id": "b94c557e",
   "metadata": {},
   "outputs": [],
   "source": [
    "def prime(x):\n",
    "    if(x<2):\n",
    "        print(\"Invalid input\")\n",
    "    else:\n",
    "        i = 2\n",
    "        primeNum = True\n",
    "        while((i**2)<=x):\n",
    "            if(x%i==0):\n",
    "                primeNum = False\n",
    "                break\n",
    "            else:\n",
    "                i+=1\n",
    "        print(\"Whether \",x,\" is prime number : \",primeNum)"
   ]
  },
  {
   "cell_type": "code",
   "execution_count": 46,
   "id": "a889fe1a",
   "metadata": {},
   "outputs": [
    {
     "name": "stdout",
     "output_type": "stream",
     "text": [
      "Whether  1009  is prime number :  True\n"
     ]
    }
   ],
   "source": [
    "prime(1009)"
   ]
  },
  {
   "cell_type": "code",
   "execution_count": 61,
   "id": "ab2ab8d5",
   "metadata": {},
   "outputs": [],
   "source": [
    "def single_exp(s):\n",
    "    if('+' in s):\n",
    "        exp=s.split('+')\n",
    "        return(int(exp[0])+int(exp[1]))\n",
    "    if('-' in s):\n",
    "        exp=s.split('-')\n",
    "        return(int(exp[0])-int(exp[1]))\n",
    "    if('*' in s):\n",
    "        exp=s.split('*')\n",
    "        return(int(exp[0])*int(exp[1]))\n",
    "    if('/' in s):\n",
    "        exp=s.split('/')\n",
    "        return(int(exp[0])/int(exp[1]))\n",
    "    if('!' in s):\n",
    "        exp=s.split('!')\n",
    "        result=1\n",
    "        for i in range(1,int(exp[0])+1):\n",
    "            result*=i\n",
    "        return result\n"
   ]
  },
  {
   "cell_type": "code",
   "execution_count": 62,
   "id": "2bab6219",
   "metadata": {},
   "outputs": [
    {
     "name": "stdout",
     "output_type": "stream",
     "text": [
      "Enter single expression 4+76\n",
      "Answer is :  80\n"
     ]
    }
   ],
   "source": [
    "s = input(\"Enter single expression \")\n",
    "print(\"Answer is : \",single_exp(s))"
   ]
  },
  {
   "cell_type": "code",
   "execution_count": null,
   "id": "d9e61c47",
   "metadata": {},
   "outputs": [],
   "source": []
  },
  {
   "cell_type": "code",
   "execution_count": null,
   "id": "7ae7b1be",
   "metadata": {},
   "outputs": [],
   "source": []
  }
 ],
 "metadata": {
  "kernelspec": {
   "display_name": "Python 3 (ipykernel)",
   "language": "python",
   "name": "python3"
  },
  "language_info": {
   "codemirror_mode": {
    "name": "ipython",
    "version": 3
   },
   "file_extension": ".py",
   "mimetype": "text/x-python",
   "name": "python",
   "nbconvert_exporter": "python",
   "pygments_lexer": "ipython3",
   "version": "3.9.12"
  }
 },
 "nbformat": 4,
 "nbformat_minor": 5
}
