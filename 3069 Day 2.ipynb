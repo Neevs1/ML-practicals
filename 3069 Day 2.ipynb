{
 "cells": [
  {
   "cell_type": "code",
   "execution_count": 2,
   "id": "931324ef",
   "metadata": {},
   "outputs": [],
   "source": [
    "l = [1,56,43,54]\n",
    "l.sort()"
   ]
  },
  {
   "cell_type": "code",
   "execution_count": 16,
   "id": "cc466632",
   "metadata": {},
   "outputs": [
    {
     "name": "stdout",
     "output_type": "stream",
     "text": [
      "45 45 56 54 43 1 "
     ]
    }
   ],
   "source": [
    "def lprint(i):\n",
    "    for x in i:\n",
    "        print(x,end=\" \")\n",
    "lprint(l)"
   ]
  },
  {
   "cell_type": "code",
   "execution_count": 6,
   "id": "17bda9be",
   "metadata": {},
   "outputs": [
    {
     "data": {
      "text/plain": [
       "1"
      ]
     },
     "execution_count": 6,
     "metadata": {},
     "output_type": "execute_result"
    }
   ],
   "source": [
    "l[0]"
   ]
  },
  {
   "cell_type": "code",
   "execution_count": 9,
   "id": "f5b57d8f",
   "metadata": {},
   "outputs": [
    {
     "name": "stdout",
     "output_type": "stream",
     "text": [
      "1 43 54 56 45 45 "
     ]
    }
   ],
   "source": [
    "l.append(45)\n",
    "lprint(l)"
   ]
  },
  {
   "cell_type": "code",
   "execution_count": 10,
   "id": "f40aa70e",
   "metadata": {},
   "outputs": [
    {
     "name": "stdout",
     "output_type": "stream",
     "text": [
      "1 43 54 56 45 45 "
     ]
    }
   ],
   "source": [
    "l[::-1]\n",
    "lprint(l)"
   ]
  },
  {
   "cell_type": "code",
   "execution_count": 11,
   "id": "18d6cf83",
   "metadata": {},
   "outputs": [],
   "source": [
    "l.reverse()"
   ]
  },
  {
   "cell_type": "code",
   "execution_count": 17,
   "id": "cf0a9521",
   "metadata": {},
   "outputs": [
    {
     "name": "stdout",
     "output_type": "stream",
     "text": [
      "45 45 56 54 43 1 "
     ]
    }
   ],
   "source": [
    "lprint(l)"
   ]
  },
  {
   "cell_type": "code",
   "execution_count": 18,
   "id": "6c080763",
   "metadata": {},
   "outputs": [],
   "source": [
    "newlist = l[1:3]"
   ]
  },
  {
   "cell_type": "code",
   "execution_count": 19,
   "id": "2d85e1d7",
   "metadata": {},
   "outputs": [
    {
     "name": "stdout",
     "output_type": "stream",
     "text": [
      "45 56 "
     ]
    }
   ],
   "source": [
    "lprint(newlist)"
   ]
  },
  {
   "cell_type": "code",
   "execution_count": 28,
   "id": "c78ef795",
   "metadata": {
    "scrolled": false
   },
   "outputs": [
    {
     "name": "stdout",
     "output_type": "stream",
     "text": [
      "Enter index you want to remove 100\n"
     ]
    }
   ],
   "source": [
    "rem = int(input(\"Enter index you want to remove \"))"
   ]
  },
  {
   "cell_type": "code",
   "execution_count": 29,
   "id": "50696b07",
   "metadata": {},
   "outputs": [
    {
     "name": "stdout",
     "output_type": "stream",
     "text": [
      "Invalid index provided\n"
     ]
    }
   ],
   "source": [
    "try:\n",
    "    l.pop(rem)\n",
    "except IndexError:\n",
    "    print(\"Invalid index provided\")"
   ]
  },
  {
   "cell_type": "code",
   "execution_count": 36,
   "id": "7dc257b8",
   "metadata": {},
   "outputs": [
    {
     "name": "stdout",
     "output_type": "stream",
     "text": [
      "Enter number you want to find 43\n",
      "43 is found at index 3\n"
     ]
    }
   ],
   "source": [
    "fin = int(input(\"Enter number you want to find \"))\n",
    "if fin in l:\n",
    "    print(fin,\"is found at index\",l.index(fin))\n",
    "else:\n",
    "    print(fin,\"not in list\")"
   ]
  },
  {
   "cell_type": "code",
   "execution_count": 30,
   "id": "0221bbd9",
   "metadata": {},
   "outputs": [],
   "source": [
    "countries = (\"India\",\"USA\",\"China\",\"UK\",\"Germany\",\"Japan\")\n",
    "capitals = (\"New Delhi\", \"Washington D.C\", \"Beijing\", \"London\",\"Berlin\",\"Tokyo\")"
   ]
  },
  {
   "cell_type": "code",
   "execution_count": 31,
   "id": "bf20a494",
   "metadata": {},
   "outputs": [
    {
     "name": "stdout",
     "output_type": "stream",
     "text": [
      "The capitals of various countries are :\n",
      "The capital of India is New Delhi\n",
      "The capital of USA is Washington D.C\n",
      "The capital of China is Beijing\n",
      "The capital of UK is London\n",
      "The capital of Germany is Berlin\n",
      "The capital of Japan is Tokyo\n"
     ]
    }
   ],
   "source": [
    "print(\"The capitals of various countries are :\")\n",
    "for con,cap in zip(countries,capitals):\n",
    "    print(\"The capital of {0} is {1}\".format(con,cap))"
   ]
  },
  {
   "cell_type": "code",
   "execution_count": 33,
   "id": "6b83587e",
   "metadata": {},
   "outputs": [
    {
     "data": {
      "text/plain": [
       "{'India': 'New Delhi',\n",
       " 'USA': 'Washington D.C',\n",
       " 'China': 'Beijing',\n",
       " 'UK': 'London',\n",
       " 'Germany': 'Berlin',\n",
       " 'Japan': 'Tokyo'}"
      ]
     },
     "execution_count": 33,
     "metadata": {},
     "output_type": "execute_result"
    }
   ],
   "source": [
    "capitals_dict = {}\n",
    "for con,cap in zip(countries,capitals):\n",
    "    capitals_dict[con]=cap\n",
    "capitals_dict"
   ]
  },
  {
   "cell_type": "code",
   "execution_count": 39,
   "id": "28e2918b",
   "metadata": {},
   "outputs": [
    {
     "name": "stdout",
     "output_type": "stream",
     "text": [
      "Unique elements are\n",
      "{1, 2, 3}\n",
      "Frequency of element is\n"
     ]
    },
    {
     "data": {
      "text/plain": [
       "{1: 3, 2: 3, 3: 3}"
      ]
     },
     "execution_count": 39,
     "metadata": {},
     "output_type": "execute_result"
    }
   ],
   "source": [
    "a = [1,2,2,3,3,1,3,2,1]\n",
    "freq = {}\n",
    "uniq = set()\n",
    "for x in a:\n",
    "    if x in freq:\n",
    "        freq[x]=freq[x]+1\n",
    "    else:\n",
    "        freq[x]=1\n",
    "    uniq.add(x)\n",
    "    \n",
    "print(\"Unique elements are\")\n",
    "print(uniq)\n",
    "print(\"Frequency of element is\")\n",
    "freq"
   ]
  },
  {
   "cell_type": "code",
   "execution_count": 40,
   "id": "3d6c814c",
   "metadata": {},
   "outputs": [
    {
     "data": {
      "text/plain": [
       "[[1, 2], [2, 3], [5, 4], [7, 8]]"
      ]
     },
     "execution_count": 40,
     "metadata": {},
     "output_type": "execute_result"
    }
   ],
   "source": [
    "double = [[1,2],[2,3],[7,8],[5,4]]\n",
    "double.sort()\n",
    "double"
   ]
  },
  {
   "cell_type": "code",
   "execution_count": 54,
   "id": "565b4aa5",
   "metadata": {},
   "outputs": [
    {
     "ename": "SyntaxError",
     "evalue": "invalid syntax (1271750181.py, line 2)",
     "output_type": "error",
     "traceback": [
      "\u001b[0;36m  Input \u001b[0;32mIn [54]\u001b[0;36m\u001b[0m\n\u001b[0;31m    match(num):\u001b[0m\n\u001b[0m               ^\u001b[0m\n\u001b[0;31mSyntaxError\u001b[0m\u001b[0;31m:\u001b[0m invalid syntax\n"
     ]
    }
   ],
   "source": [
    "def month1(num):\n",
    "    #match doesn't work as we are in python\n",
    "    match(num):\n",
    "        case 1:\n",
    "            print(\"January\")\n",
    "        case 2:\n",
    "            print(\"February\")\n",
    "        case 3:\n",
    "            print(\"March\")\n",
    "        case 4:\n",
    "            print(\"April\")\n",
    "        case 5:\n",
    "            print(\"May\")\n",
    "        case 6:\n",
    "            print(\"June\")\n",
    "        case 7:\n",
    "            print(\"July\")\n",
    "        case 8:\n",
    "            print(\"August\")\n",
    "        case 9:\n",
    "            print(\"September\")\n",
    "        case 10:\n",
    "            print(\"October\")\n",
    "        case 11:\n",
    "            print(\"November\")\n",
    "        case 12:\n",
    "            print(\"December\")\n",
    "        case _:\n",
    "            print(\"Invalid\")\n",
    "            \n",
    "month1(1)"
   ]
  },
  {
   "cell_type": "code",
   "execution_count": 55,
   "id": "c4b32fdd",
   "metadata": {},
   "outputs": [
    {
     "name": "stdout",
     "output_type": "stream",
     "text": [
      "sys.version_info(major=3, minor=8, micro=10, releaselevel='final', serial=0)\n"
     ]
    }
   ],
   "source": [
    "import sys\n",
    "print (sys.version_info)"
   ]
  },
  {
   "cell_type": "code",
   "execution_count": 52,
   "id": "caff0b31",
   "metadata": {},
   "outputs": [
    {
     "ename": "SyntaxError",
     "evalue": "invalid syntax (1922732038.py, line 2)",
     "output_type": "error",
     "traceback": [
      "\u001b[0;36m  Input \u001b[0;32mIn [52]\u001b[0;36m\u001b[0m\n\u001b[0;31m    match (100, 200):\u001b[0m\n\u001b[0m                     ^\u001b[0m\n\u001b[0;31mSyntaxError\u001b[0m\u001b[0;31m:\u001b[0m invalid syntax\n"
     ]
    }
   ],
   "source": [
    "#doesn't work in Python 3.8\n",
    "flag = False\n",
    "match (100, 200):\n",
    "   case (100, 300):  # Mismatch: 200 != 300\n",
    "       print('Case 1')\n",
    "   case (100, 200) if flag:  # Successful match, but guard fails\n",
    "       print('Case 2')\n",
    "   case (100, y):  # Matches and binds y to 200\n",
    "       print(f'Case 3, y: {y}')\n",
    "   case _:  # Pattern not attempted\n",
    "       print('Case 4, I match anything!')"
   ]
  },
  {
   "cell_type": "code",
   "execution_count": 61,
   "id": "6335a0f0",
   "metadata": {},
   "outputs": [
    {
     "name": "stdout",
     "output_type": "stream",
     "text": [
      "1 Aryan 500\n",
      "100.0\n"
     ]
    }
   ],
   "source": [
    "\n",
    "class student():\n",
    "    def __init__(self,roll_no,name,marks):\n",
    "        self.r = roll_no\n",
    "        self.n = name\n",
    "        self.m = marks\n",
    "    def to_percent(self):\n",
    "        self.percent = self.m*100/500\n",
    "\n",
    "x=student(1,\"Aryan\",500)\n",
    "print(x.r,x.n,x.m)\n",
    "mark = x.m\n",
    "x.to_percent()\n",
    "print(x.percent)"
   ]
  },
  {
   "cell_type": "code",
   "execution_count": null,
   "id": "7c9a4376",
   "metadata": {},
   "outputs": [],
   "source": []
  }
 ],
 "metadata": {
  "kernelspec": {
   "display_name": "Python 3 (ipykernel)",
   "language": "python",
   "name": "python3"
  },
  "language_info": {
   "codemirror_mode": {
    "name": "ipython",
    "version": 3
   },
   "file_extension": ".py",
   "mimetype": "text/x-python",
   "name": "python",
   "nbconvert_exporter": "python",
   "pygments_lexer": "ipython3",
   "version": "3.8.10"
  }
 },
 "nbformat": 4,
 "nbformat_minor": 5
}
