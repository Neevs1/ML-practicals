{
 "cells": [
  {
   "cell_type": "code",
   "execution_count": 1,
   "metadata": {},
   "outputs": [],
   "source": [
    "import numpy as np"
   ]
  },
  {
   "cell_type": "code",
   "execution_count": 9,
   "metadata": {},
   "outputs": [
    {
     "name": "stdout",
     "output_type": "stream",
     "text": [
      "(5,)\n",
      "1\n",
      "5\n"
     ]
    }
   ],
   "source": [
    "a = np.array([1,2,3,4,5])\n",
    "print(a.shape)\n",
    "print(a.ndim)\n",
    "print(a.size)"
   ]
  },
  {
   "cell_type": "code",
   "execution_count": 13,
   "metadata": {},
   "outputs": [
    {
     "name": "stdout",
     "output_type": "stream",
     "text": [
      "(2, 3)\n",
      "2\n",
      "6\n",
      "1 2 3 \n",
      "\n",
      "4 5 6 \n",
      "\n"
     ]
    }
   ],
   "source": [
    "twodim = np.array([[1,2,3],[4,5,6]])\n",
    "print(twodim.shape)\n",
    "print(twodim.ndim)\n",
    "print(twodim.size)\n",
    "for i in twodim:\n",
    "    for j in i:\n",
    "        print(j,end=\" \")\n",
    "    print(\"\\n\")"
   ]
  },
  {
   "cell_type": "code",
   "execution_count": 27,
   "metadata": {},
   "outputs": [
    {
     "name": "stdout",
     "output_type": "stream",
     "text": [
      "[1 1 1]   [0. 0.]   [0 1 2 3]   [0. 0.]   [ 0  5 11 16 22 27 33 38 44 50]\n"
     ]
    }
   ],
   "source": [
    "ones = np.ones(3,dtype=np.int64)\n",
    "zeroes = np.zeros(2)\n",
    "count = np.arange(4)\n",
    "empty = np.empty(2)\n",
    "interval = np.linspace(0,50,num=10,dtype=np.int64)\n",
    "\n",
    "print(ones,\" \",zeroes,\" \",count,\" \",empty,\" \",interval)"
   ]
  },
  {
   "cell_type": "code",
   "execution_count": 16,
   "metadata": {},
   "outputs": [],
   "source": [
    "animals = np.array([\"cats\",\"dogs\",\"birds\"])"
   ]
  },
  {
   "cell_type": "code",
   "execution_count": 17,
   "metadata": {},
   "outputs": [
    {
     "name": "stdout",
     "output_type": "stream",
     "text": [
      "<U5\n",
      "int64\n",
      "float64\n",
      "bool\n"
     ]
    }
   ],
   "source": [
    "ints = np.array([1,332,232,2564,1456465])\n",
    "floats = np.array([1.0,4.5,23.2,6.44])\n",
    "bools = np.array([True,False,True,False])\n",
    "print(animals.dtype)\n",
    "print(ints.dtype)\n",
    "print(floats.dtype)\n",
    "print(bools.dtype)"
   ]
  },
  {
   "cell_type": "code",
   "execution_count": 28,
   "metadata": {},
   "outputs": [
    {
     "data": {
      "text/plain": [
       "array([False, False,  True,  True])"
      ]
     },
     "execution_count": 28,
     "metadata": {},
     "output_type": "execute_result"
    }
   ],
   "source": [
    "np.sort(bools)"
   ]
  },
  {
   "cell_type": "code",
   "execution_count": 29,
   "metadata": {},
   "outputs": [
    {
     "data": {
      "text/plain": [
       "array([[0, 1],\n",
       "       [1, 0]])"
      ]
     },
     "execution_count": 29,
     "metadata": {},
     "output_type": "execute_result"
    }
   ],
   "source": [
    "x = np.array([[0, 3], [2, 2]])\n",
    "ind = np.argsort(x, axis=0)\n",
    "\n",
    "ind"
   ]
  },
  {
   "cell_type": "code",
   "execution_count": 66,
   "metadata": {},
   "outputs": [
    {
     "data": {
      "text/plain": [
       "array([1, 2, 3, 4, 5, 6, 7, 8])"
      ]
     },
     "execution_count": 66,
     "metadata": {},
     "output_type": "execute_result"
    }
   ],
   "source": [
    "a = np.array([1, 2, 3, 4])\n",
    "b = np.array([5, 6, 7, 8])\n",
    "c = np.concatenate((a,b))\n",
    "c"
   ]
  },
  {
   "cell_type": "code",
   "execution_count": 85,
   "metadata": {},
   "outputs": [
    {
     "data": {
      "text/plain": [
       "array([[1, 2],\n",
       "       [3, 4],\n",
       "       [5, 6],\n",
       "       [7, 8]])"
      ]
     },
     "execution_count": 85,
     "metadata": {},
     "output_type": "execute_result"
    }
   ],
   "source": [
    "d = c.reshape(4,2)\n",
    "d"
   ]
  },
  {
   "cell_type": "code",
   "execution_count": 68,
   "metadata": {},
   "outputs": [
    {
     "data": {
      "text/plain": [
       "array([[1, 2, 3, 4],\n",
       "       [5, 6, 7, 8]])"
      ]
     },
     "execution_count": 68,
     "metadata": {},
     "output_type": "execute_result"
    }
   ],
   "source": [
    "e = np.vstack((a,b))\n",
    "e"
   ]
  },
  {
   "cell_type": "code",
   "execution_count": 69,
   "metadata": {},
   "outputs": [
    {
     "data": {
      "text/plain": [
       "array([1, 2, 3, 4, 5, 6, 7, 8])"
      ]
     },
     "execution_count": 69,
     "metadata": {},
     "output_type": "execute_result"
    }
   ],
   "source": [
    "f=np.hstack((a,b))\n",
    "f"
   ]
  },
  {
   "cell_type": "code",
   "execution_count": 46,
   "metadata": {},
   "outputs": [
    {
     "name": "stdout",
     "output_type": "stream",
     "text": [
      "2\n",
      "[1 2]\n",
      "[2 3]\n",
      "[2 3]\n",
      "[3 2 1]\n",
      "Minimum is 1 \n",
      "Maximum is 3 \n",
      "Sum is 6\n"
     ]
    }
   ],
   "source": [
    "data = np.array([1, 2, 3])\n",
    "\n",
    "print(data[1])\n",
    "print(data[0:2])\n",
    "print(data[1:])\n",
    "print(data[-2:])\n",
    "print(data[::-1])\n",
    "print(\"Minimum is\",data.min(),\"\\nMaximum is\",data.max(),\"\\nSum is\",data.sum())"
   ]
  },
  {
   "cell_type": "code",
   "execution_count": 48,
   "metadata": {},
   "outputs": [
    {
     "name": "stdout",
     "output_type": "stream",
     "text": [
      "6.5\n",
      "2.0615528128088303\n"
     ]
    }
   ],
   "source": [
    "goals = np.array([9,8,5,4])\n",
    "print(goals.mean())\n",
    "print(goals.std())"
   ]
  },
  {
   "cell_type": "code",
   "execution_count": 73,
   "metadata": {},
   "outputs": [
    {
     "name": "stdout",
     "output_type": "stream",
     "text": [
      "[11 12 13 14 15 16 17 18 19 20] \n",
      " [ 0  2  3  4  5  6  7 12 13 14] \n",
      " [3 2 2 2 1 1 1 1 1 1]\n"
     ]
    }
   ],
   "source": [
    "un = np.array([11, 11, 12, 13, 14, 15, 16, 17, 12, 13, 11, 14, 18, 19, 20])\n",
    "unique_values, indices_list, occurence_list = np.unique(un, return_index=True,return_counts=True)\n",
    "print(unique_values,\"\\n\",indices_list,\"\\n\",occurence_list)"
   ]
  },
  {
   "cell_type": "code",
   "execution_count": 80,
   "metadata": {},
   "outputs": [
    {
     "data": {
      "text/plain": [
       "array([[25, 12, 35, 31, 44, 46, 42, 15, 14, 23],\n",
       "       [35, 33, 23, 48, 46, 23,  4, 49, 47, 33],\n",
       "       [11, 40, 31,  6, 26,  2, 33, 33, 33, 46]])"
      ]
     },
     "execution_count": 80,
     "metadata": {},
     "output_type": "execute_result"
    }
   ],
   "source": [
    "rng = np.random.default_rng()\n",
    "\n",
    "q = rng.integers(50,size=(3,10))\n",
    "q"
   ]
  },
  {
   "cell_type": "code",
   "execution_count": 60,
   "metadata": {},
   "outputs": [
    {
     "name": "stdout",
     "output_type": "stream",
     "text": [
      "(array([1, 1, 3, 4, 5, 6, 7, 8, 9]), array([0, 2, 0, 1, 2, 2, 0, 2, 1]))\n"
     ]
    }
   ],
   "source": [
    "print(np.nonzero(q<10))"
   ]
  },
  {
   "cell_type": "code",
   "execution_count": 62,
   "metadata": {},
   "outputs": [],
   "source": [
    "np.savetxt('test.csv',q)"
   ]
  },
  {
   "cell_type": "code",
   "execution_count": 74,
   "metadata": {},
   "outputs": [
    {
     "data": {
      "text/plain": [
       "[<matplotlib.lines.Line2D at 0x7fc6aa032880>]"
      ]
     },
     "execution_count": 74,
     "metadata": {},
     "output_type": "execute_result"
    },
    {
     "data": {
      "image/png": "[encoded data removed]",
      "text/plain": [
       "<Figure size 640x480 with 1 Axes>"
      ]
     },
     "metadata": {},
     "output_type": "display_data"
    }
   ],
   "source": [
    "import matplotlib.pyplot as plt\n",
    "plt.plot(e[0],e[1],'o')\n",
    "plt.plot(e[0],e[1],'blue')"
   ]
  },
  {
   "cell_type": "code",
   "execution_count": 83,
   "metadata": {},
   "outputs": [
    {
     "data": {
      "text/plain": [
       "[<matplotlib.lines.Line2D at 0x7fc6a9c78820>]"
      ]
     },
     "execution_count": 83,
     "metadata": {},
     "output_type": "execute_result"
    },
    {
     "data": {
      "image/png": "[encoded data removed]",
      "text/plain": [
       "<Figure size 640x480 with 1 Axes>"
      ]
     },
     "metadata": {},
     "output_type": "display_data"
    }
   ],
   "source": [
    "goals = np.array([0,1,2,3,4])\n",
    "teamA = np.array([27,9,8,5,4])\n",
    "teamB = np.array([17,9,6,5,3])\n",
    "plt.plot(goals,teamA,'o')\n",
    "plt.plot(goals,teamA,'blue')\n",
    "plt.plot(goals,teamB,'o')\n",
    "plt.plot(goals,teamB,'red')"
   ]
  },
  {
   "cell_type": "code",
   "execution_count": 84,
   "metadata": {},
   "outputs": [
    {
     "name": "stdout",
     "output_type": "stream",
     "text": [
      "[ 0  1  4  9 16]\n"
     ]
    }
   ],
   "source": [
    "print(np.square(goals))"
   ]
  },
  {
   "cell_type": "code",
   "execution_count": 93,
   "metadata": {},
   "outputs": [
    {
     "name": "stdout",
     "output_type": "stream",
     "text": [
      "[[1 2]\n",
      " [3 4]\n",
      " [5 6]\n",
      " [7 8]]\n",
      "[[1 3 5 7]\n",
      " [2 4 6 8]]\n",
      "[[8 7]\n",
      " [6 5]\n",
      " [4 3]\n",
      " [2 1]]\n",
      "[[2 4 6 8]\n",
      " [1 3 5 7]]\n",
      "[[7 5 3 1]\n",
      " [8 6 4 2]]\n",
      "[1 2 3 4 5 6 7 8]\n"
     ]
    }
   ],
   "source": [
    "print(d)\n",
    "print(d.transpose())\n",
    "print(np.flip(d))\n",
    "print(np.flip(d.transpose(),axis=0))\n",
    "print(np.flip(d.transpose(),axis=1))\n",
    "print(d.flatten())\n",
    "h = d.T()\n",
    "h"
   ]
  },
  {
   "cell_type": "code",
   "execution_count": 108,
   "metadata": {},
   "outputs": [
    {
     "name": "stdout",
     "output_type": "stream",
     "text": [
      "(2, 4)\n"
     ]
    }
   ],
   "source": [
    "#2,4,3,3\n",
    "m = np.array([[2,3,6,7],[4,5,7,8]])\n",
    "print(m.shape)"
   ]
  },
  {
   "cell_type": "code",
   "execution_count": 119,
   "metadata": {},
   "outputs": [],
   "source": [
    "n = np.array([[[[1,2,3],\n",
    "                [4,5,6],\n",
    "                [7,8,9]],\n",
    "               [[10,11,12],\n",
    "                [13,14,15],\n",
    "                [16,17,18]],\n",
    "               [[19,20,21],\n",
    "                [22,23,24],\n",
    "                [25,26,27]],\n",
    "               [[28,29,30],\n",
    "                [31,32,33],\n",
    "                [34,35,36]]],\n",
    "              [[[37,38,39],\n",
    "                [40,41,42],\n",
    "                [43,44,45]],\n",
    "               [[46,47,48],\n",
    "                [49,50,51],\n",
    "                [52,53,54]],\n",
    "               [[55,56,57],\n",
    "                [58,59,60],\n",
    "                [61,62,63]],\n",
    "               [[64,65,66],\n",
    "                [67,68,69],\n",
    "                [70,71,72]]]])"
   ]
  },
  {
   "cell_type": "code",
   "execution_count": 120,
   "metadata": {},
   "outputs": [
    {
     "name": "stdout",
     "output_type": "stream",
     "text": [
      "(2, 4, 3, 3)\n",
      "4\n",
      "72\n"
     ]
    }
   ],
   "source": [
    "print(n.shape)\n",
    "print(n.ndim)\n",
    "print(n.size)"
   ]
  },
  {
   "cell_type": "code",
   "execution_count": 121,
   "metadata": {},
   "outputs": [],
   "source": [
    "#[[1,2,3],[1,2,3],[1,2,3]]\n",
    "#perform slice operations and indexing"
   ]
  },
  {
   "cell_type": "code",
   "execution_count": null,
   "metadata": {},
   "outputs": [],
   "source": []
  }
 ],
 "metadata": {
  "kernelspec": {
   "display_name": "Python 3 (ipykernel)",
   "language": "python",
   "name": "python3"
  },
  "language_info": {
   "codemirror_mode": {
    "name": "ipython",
    "version": 3
   },
   "file_extension": ".py",
   "mimetype": "text/x-python",
   "name": "python",
   "nbconvert_exporter": "python",
   "pygments_lexer": "ipython3",
   "version": "3.8.10"
  }
 },
 "nbformat": 4,
 "nbformat_minor": 4
}
